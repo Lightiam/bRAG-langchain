{
 "cells": [
  {
   "cell_type": "markdown",
   "id": "5991108b",
   "metadata": {},
   "source": [
    "# XyLo.Dev: RAG Implementation with Groq\n",
    "\n",
    "This notebook demonstrates a complete implementation of a RAG system using Groq API instead of OpenAI."
   ]
  },
  {
   "cell_type": "code",
   "execution_count": null,
   "id": "15952254",
   "metadata": {},
   "outputs": [],
   "source": [
    "import os\n",
    "from dotenv import load_dotenv\n",
    "\n",
    "# Load environment variables\n",
    "load_dotenv()\n",
    "\n",
    "# Set up Groq API key\n",
    "groq_api_key = os.getenv(\"GROQ_API_KEY\")\n",
    "os.environ[\"GROQ_API_KEY\"] = groq_api_key\n",
    "\n",
    "# Set up Groq model\n",
    "groq_model = \"llama3-70b-8192\""
   ]
  },
  {
   "cell_type": "code",
   "execution_count": null,
   "id": "418f4af2",
   "metadata": {},
   "outputs": [],
   "source": [
    "from langchain_groq import ChatGroq\n",
    "from langchain_community.embeddings import HuggingFaceEmbeddings\n",
    "\n",
    "# Initialize Groq LLM\n",
    "llm = ChatGroq(model_name=groq_model, temperature=0.1)\n",
    "\n",
    "# Use HuggingFace embeddings as an alternative to OpenAI embeddings\n",
    "embeddings = HuggingFaceEmbeddings(model_name=\"sentence-transformers/all-mpnet-base-v2\")"
   ]
  }
 ],
 "metadata": {},
 "nbformat": 4,
 "nbformat_minor": 5
}
